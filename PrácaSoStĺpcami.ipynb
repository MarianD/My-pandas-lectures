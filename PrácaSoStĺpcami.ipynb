{
 "cells": [
  {
   "cell_type": "code",
   "execution_count": null,
   "metadata": {},
   "outputs": [],
   "source": [
    "import pandas as pd"
   ]
  },
  {
   "cell_type": "markdown",
   "metadata": {},
   "source": [
    "Takmer každý balík má vlastnosť `__version__`, ktorá obsahuje číslo verzie.  \n",
    "Pozrieme si verziu __IPythona__ a potom aj __Pandas__:"
   ]
  },
  {
   "cell_type": "code",
   "execution_count": null,
   "metadata": {},
   "outputs": [],
   "source": [
    "from IPython import __version__\n",
    "__version__"
   ]
  },
  {
   "cell_type": "code",
   "execution_count": null,
   "metadata": {
    "collapsed": false,
    "jupyter": {
     "outputs_hidden": false
    }
   },
   "outputs": [],
   "source": [
    "pd.__version__"
   ]
  },
  {
   "cell_type": "markdown",
   "metadata": {},
   "source": [
    "Nasleduje pomocná vec - krajšie zobrazovanie dataframes.  \n",
    "Nemusíš tomu rozumieť, stačí vedieť, že funkcia `f()` zobrazí DataFrame krajšie.  \n",
    "V premennej `moj_styl` mám definované všelijaké **CSS štýly**  \n",
    "(môžeš si zmeniť napr. **farby**, ak sa Ti nepáčia moje), a potom je definícia  \n",
    "samotnej funkcie `p()`, ktorá tie štýly (z premennej `moj_styl`) nastaví."
   ]
  },
  {
   "cell_type": "code",
   "execution_count": null,
   "metadata": {},
   "outputs": [],
   "source": [
    "moj_styl = [ \n",
    "    {'selector': 'th:not(:empty)', \n",
    "     'props': [('background', 'darkgreen'),  \n",
    "               ('color', 'white'),\n",
    "               ('border', '1px solid white'),\n",
    "               ('padding-left', '0.5em'),\n",
    "               ('padding-right', '0.5em'),\n",
    "               ('text-align', 'right'),\n",
    "               ('font-weight', '600'),\n",
    "               ]},\n",
    "    {'selector': 'tr:nth-child(2) th:empty',\n",
    "     'props': [('border-left', 'none'),\n",
    "               ('border-right', '1px dashed #888'),\n",
    "               ('margin', '0')]},\n",
    "    {'selector': 'td', \n",
    "     'props': [('color', 'blue'),\n",
    "               ('border', '1px solid #ccf')],} \n",
    "]\n",
    "\n",
    "def p(df):\n",
    "    return df.style.set_table_styles(moj_styl)"
   ]
  },
  {
   "cell_type": "markdown",
   "metadata": {},
   "source": [
    "Vzor pre načítanie dataframe pomocou `pd.read_clipboard()`  \n",
    "**Treba to celé označiť a dať do schránky, než vykonáš ďalší príkaz!**\n",
    "\n",
    "          Region     Country       Type    Amount    Price\n",
    "    202   Europe     Germany  Household        10    20.00\n",
    "    590   Africa  Seychelles  Household         2    30.00\n",
    "    354   Africa       Sudan   Supplies       100     6.50\n",
    "    544   Africa       Egypt       Meat        60    10.00\n",
    "    849     Asia    Malaysia       Food       800     1.00\n",
    "    495   Africa     Algeria       Meat      1000     1.70\n"
   ]
  },
  {
   "cell_type": "code",
   "execution_count": null,
   "metadata": {},
   "outputs": [],
   "source": [
    "df = pd.read_clipboard()\n",
    "df.style"
   ]
  },
  {
   "cell_type": "code",
   "execution_count": null,
   "metadata": {},
   "outputs": [],
   "source": [
    "p(df)      # Iné zobrazenie pomocou vyššie definovanej funkcie"
   ]
  },
  {
   "cell_type": "raw",
   "metadata": {},
   "source": [
    "Zobrazíme si základné informácie o našom dataframe (jeho vlastnosti):\n",
    "Použijeme čiarky - tým pádom sa to zobrazí ako n-tica (tuple), v našom prípade štvorica"
   ]
  },
  {
   "cell_type": "code",
   "execution_count": null,
   "metadata": {},
   "outputs": [],
   "source": [
    "df.index, df.columns, df.shape, df.dtypes"
   ]
  },
  {
   "cell_type": "markdown",
   "metadata": {},
   "source": [
    "---\n",
    "Známa funkcia `len()` zobrazuje v prípade *dataframe* **počet riadkov**:"
   ]
  },
  {
   "cell_type": "code",
   "execution_count": null,
   "metadata": {},
   "outputs": [],
   "source": [
    "len(df)"
   ]
  },
  {
   "cell_type": "markdown",
   "metadata": {},
   "source": [
    "---\n",
    "Teraz zmeníme názvy niektorých stĺpcov, a to tak, že v metóde `.rename() `  \n",
    "\"podhodíme\" kľúčovému parametru `columns=` **slovník**, <br /> \n",
    "ktorého kľúčami sú staré mená a hodnotami nové:"
   ]
  },
  {
   "cell_type": "code",
   "execution_count": null,
   "metadata": {},
   "outputs": [],
   "source": [
    "df.rename(columns={\"Country\": \"Štát\", \"Price\": \"Cena/kus\"})"
   ]
  },
  {
   "cell_type": "raw",
   "metadata": {},
   "source": [
    "Všimnime si, že samotný dataframe sa nezmenil:"
   ]
  },
  {
   "cell_type": "code",
   "execution_count": null,
   "metadata": {},
   "outputs": [],
   "source": [
    "df"
   ]
  },
  {
   "cell_type": "markdown",
   "metadata": {},
   "source": [
    "---\n",
    "Hádaj, prečo ...\n",
    "\n",
    "**Pomôcka** - nie je tam žiadne `=`, teda sa zobrazili len *výsledok výrazu*. <br /> \n",
    "Je to podobné, ako keby si mala v premennej `a` hodnotu **1** a napísala by si `a + 4`:<br />\n",
    "Zobrazilo by sa Ti **5**, ale v premennej `a` by stále zostala hodnota **1**.\n",
    "\n",
    "Ak chceme, aby sa uchoval zmenený dataframe, musíme ho *priradiť nejakej premennej*, <br />\n",
    "čo aj tej istej. Urobme to a zobrazme si výsledok:"
   ]
  },
  {
   "cell_type": "code",
   "execution_count": null,
   "metadata": {},
   "outputs": [],
   "source": [
    "df1 = df.rename(columns={\"Country\": \"Štát\", \"Price\": \"Cena/kus\"})\n",
    "df1"
   ]
  },
  {
   "cell_type": "markdown",
   "metadata": {},
   "source": [
    "---\n",
    "Inou možnosťou - *ktorá sa ale nedá použiť vždy* - je to, že **mnoho metód  \n",
    "má kľúčový parameter** `inplace=`. Štadnardne býva nastavený na `False`, <br />\n",
    "takže sa zmena nevykoná priamo na danom dataframe, ale len sa vráti nový, ktorý  \n",
    "treba priradiť do nejakej premennej.\n",
    "\n",
    "Vyskúšajme si to teraz, **zmeňme názvy ďalších 2 stĺpcov, tentoraz priamo na mieste,  \n",
    "bez priradenia:**"
   ]
  },
  {
   "cell_type": "code",
   "execution_count": null,
   "metadata": {},
   "outputs": [],
   "source": [
    "df1.rename(columns={\"Type\": \"Typ\", \"Amount\": \"Kusov\"}, inplace=True)\n",
    "df1"
   ]
  },
  {
   "cell_type": "code",
   "execution_count": null,
   "metadata": {},
   "outputs": [],
   "source": [
    "p(df1)     # To isté v inom zobrazení"
   ]
  },
  {
   "cell_type": "raw",
   "metadata": {},
   "source": [
    "Ak chceme stĺpce zobraziť v inom poradí, alebo len niektoré z nich,\n",
    "napíšeme ich zoznam do hranatých zátvoriek:"
   ]
  },
  {
   "cell_type": "code",
   "execution_count": null,
   "metadata": {},
   "outputs": [],
   "source": [
    "df1[[\"Štát\", \"Cena/kus\", \"Kusov\"]]    # Alebo df1[\"Štát Cena/kus Kusov\".split()]"
   ]
  },
  {
   "cell_type": "markdown",
   "metadata": {},
   "source": [
    "### Pozor! Nepriradili sme to, takže zmena sa nám stratí!"
   ]
  },
  {
   "cell_type": "markdown",
   "metadata": {},
   "source": [
    "---\n",
    "## Štýlovanie pomocou predvolených štýlov\n",
    "Vlastnosť `.style` objektu typu `DataFrame` je objekt typu `Style`. Už vieme, že `df1.style` samotné zvýrazní index.  \n",
    "Ale na `df1.style` môžeme poštvať ďalšie metódy triedy `Style` na zmenu zobrazenia.  \n",
    "Predvolené (dopredu naprogramované) sú tieto:\n",
    "- `highlight_max()`\n",
    "- `highlight_min()`\n",
    "- `highlight_null()                # zvýrazní hodnoty NaN, teda chýbajúce údaje`\n",
    "- `background_gradient(\"meno\")     # zvýrazní veľkosť údajov pomocou farebných máp` "
   ]
  },
  {
   "cell_type": "code",
   "execution_count": null,
   "metadata": {},
   "outputs": [],
   "source": [
    "df1.style.highlight_max()"
   ]
  },
  {
   "cell_type": "code",
   "execution_count": null,
   "metadata": {},
   "outputs": [],
   "source": [
    "df.style.highlight_min(color=\"lightgreen\")"
   ]
  },
  {
   "cell_type": "markdown",
   "metadata": {},
   "source": [
    "---\n",
    "Keďže výsledkom je opäť objekt typu `Style`, môžeme po jednej metóde použiť hneď ďalšiu, atď,  \n",
    "teda môžeme ich zreťazovať:"
   ]
  },
  {
   "cell_type": "raw",
   "metadata": {},
   "source": [
    "df1.style.highlight_max().highlight_min(color=\"lightgreen\")"
   ]
  },
  {
   "cell_type": "code",
   "execution_count": null,
   "metadata": {},
   "outputs": [],
   "source": [
    "df1.style.background_gradient(\"plasma\")         # alebo \"Pastel2\", \"viridis\", \"plasma\", ...  - viď súbor \"Farebné mapy.ipynb\""
   ]
  },
  {
   "cell_type": "markdown",
   "metadata": {},
   "source": [
    "---\n",
    "# Iný spôsob premenovávania stĺpcov\n",
    "Namiesto toho, aby sme premenovávali jednotlivé stĺpce, môžeme dať všetkým stĺpcom nové mená  \n",
    "(samozrejme, niektoré z tých \"nových\" mien môžu byť aj staré, takže tie vlastne nepremenujeme)"
   ]
  },
  {
   "cell_type": "code",
   "execution_count": null,
   "metadata": {},
   "outputs": [],
   "source": [
    "df1.columns         # vlastnosť .columns nám zobrazí objekt typu Index - zoznam mien stĺpcov"
   ]
  },
  {
   "cell_type": "markdown",
   "metadata": {},
   "source": [
    "---\n",
    "Objekt typu `Index` je akoby zoznam s mnohými zvláštnymi metódam.  \n",
    "Nemusíme si s tým zatiaľ lámať hlavu - pre nás je to proste zoznam, aha pár príkladov:"
   ]
  },
  {
   "cell_type": "code",
   "execution_count": null,
   "metadata": {},
   "outputs": [],
   "source": [
    "stlpce = df1.columns\n",
    "stlpce[3]"
   ]
  },
  {
   "cell_type": "code",
   "execution_count": null,
   "metadata": {},
   "outputs": [],
   "source": [
    "[stlpec.upper() for stlpec in stlpce]"
   ]
  },
  {
   "cell_type": "code",
   "execution_count": null,
   "metadata": {},
   "outputs": [],
   "source": [
    "\"Štát\" in stlpce"
   ]
  },
  {
   "cell_type": "code",
   "execution_count": null,
   "metadata": {},
   "outputs": [],
   "source": [
    "\"Fero\" in stlpce"
   ]
  },
  {
   "cell_type": "code",
   "execution_count": null,
   "metadata": {},
   "outputs": [],
   "source": [
    "len(stlpce)"
   ]
  },
  {
   "cell_type": "markdown",
   "metadata": {},
   "source": [
    "---\n",
    "Teraz ideme priradiť vlastnosti `.column` **iný** zoznam mien.  \n",
    "Keďže pôjde o priradenie (`=`), tým **zmeníme** náš dataframe, takže je dobré si \n",
    "pôvodný zoznam mien stĺpcov uchovať.\n",
    "\n",
    "Máme to už uchované v premennej `stlpce`, ale kvôli názornosti ešte raz, do vhodnejšie  \n",
    "pomenovanej premennej:"
   ]
  },
  {
   "cell_type": "code",
   "execution_count": null,
   "metadata": {},
   "outputs": [],
   "source": [
    "originalne_mena_stlpcov = df1.columns\n",
    "originalne_mena_stlpcov                   # Len na overenie, či to v tej premennej máme"
   ]
  },
  {
   "cell_type": "markdown",
   "metadata": {},
   "source": [
    "---\n",
    "Teraz ideme pripraviť nové mená stĺpcov: Chceme ich pomenovať A, B, C, D a E.  \n",
    "Mohli by sme to urobiť takto:\n",
    "- `nove_mena_stlpcov = [\"A\", \"B\", \"C\", \"D\", \"E\"]`\n",
    "\n",
    "alebo - čo je pre Teba už bežné:\n",
    "\n",
    "- `nove_mena_stlpcov = \"A B C D E\".split()`\n",
    "\n",
    "ale najkrajšie je to asi takto:"
   ]
  },
  {
   "cell_type": "code",
   "execution_count": null,
   "metadata": {},
   "outputs": [],
   "source": [
    "nove_mena_stlpcov = list(\"ABCDE\")      # reťazec je vlastne zoznamom jeho znakov\n",
    "nove_mena_stlpcov                      # len na overenie"
   ]
  },
  {
   "cell_type": "markdown",
   "metadata": {},
   "source": [
    "A teraz ich priradíme (a zobrazíme si zmenený dataframe):"
   ]
  },
  {
   "cell_type": "code",
   "execution_count": null,
   "metadata": {},
   "outputs": [],
   "source": [
    "df1.columns = nove_mena_stlpcov        # alebo priamo df1.columns = list(\"ABCDE\")\n",
    "df1"
   ]
  },
  {
   "cell_type": "markdown",
   "metadata": {},
   "source": [
    "---\n",
    "A teraz vrátime pôvodné mená stĺpcov, ktoré sme si prezieravo uložili:"
   ]
  },
  {
   "cell_type": "code",
   "execution_count": null,
   "metadata": {},
   "outputs": [],
   "source": [
    "df1.columns = originalne_mena_stlpcov\n",
    "df1"
   ]
  },
  {
   "cell_type": "markdown",
   "metadata": {},
   "source": [
    "A ešte - aby sme všetky čísla typu `float` mali odteraz zobrazené pekne  \n",
    "na 2 desatinné miesta - kuk na posledný stĺpec hore, aký je škaredý -  \n",
    "zadáme takýto príkaz (nemusíš si ho pamätať - len vedieť, že sa to dá):"
   ]
  },
  {
   "cell_type": "code",
   "execution_count": null,
   "metadata": {},
   "outputs": [],
   "source": [
    "pd.options.display.float_format = '{:.2f}'.format      # pre návrat späť by sme tomu istému priradili None"
   ]
  },
  {
   "cell_type": "code",
   "execution_count": null,
   "metadata": {},
   "outputs": [],
   "source": [
    "df1    # kuk na posledný stĺpec"
   ]
  },
  {
   "cell_type": "markdown",
   "metadata": {},
   "source": [
    "Alebo - namiesto toho, alebo naviac k tomu - môžeme každému stĺpcu priradiť iné formátovanie:"
   ]
  },
  {
   "cell_type": "code",
   "execution_count": null,
   "metadata": {},
   "outputs": [],
   "source": [
    "df1.style.format({\n",
    "    \"Kusov\": \"{} ks\",            # formátovanie pomocou \"{}\" už poznáš, pandas do {} dosadí postupne každú hodnotu v danom stĺpci\n",
    "    \"Cena/kus\": \"{:.2f} Kč\",     # {:.2f} - to za dvojbonkou znamená, ako to má zobraziť - na 2 desatinné miesta, ľudsky (f)\n",
    "})                               # Keby si to f vynechala, bolo by to \"neľudsky\", vo vedeckom - exponenciálnom - zápise. Skús to!"
   ]
  },
  {
   "cell_type": "markdown",
   "metadata": {},
   "source": [
    "Teraz tie posledné 2 stĺpce vyzerajú, ako keby to neboli čísla (napr. 10), ale reťazce (\"10 ks\").  \n",
    "Ale treba si uvedomiť, že sme **nemenili samotné dataframe**, len jeho **zobrazenie** - aha:"
   ]
  },
  {
   "cell_type": "code",
   "execution_count": null,
   "metadata": {},
   "outputs": [],
   "source": [
    "df1.dtypes            # dtypes znamená \"data types\""
   ]
  },
  {
   "cell_type": "markdown",
   "metadata": {},
   "source": [
    "Stĺpec `Kusov` je stále typu `int` (presnejšie `int` 64-bitový), `Cena/kus` je stále typu `float` (presnejšie `float` 64-bitový).  \n",
    "S tým \"64-bitový\" si nemusíš lámať hlavu (všetkov v počítači je uložené v dvojkovej sústave, 64-bit znamená 64 dvojkových číslic.)   \n",
    "Slovo \"bit\" je skratkou \"binary digit\", teda \"dvojková číslica\", čiže 0 alebo 1.\n",
    "\n",
    "---\n",
    "Zopakujme si:"
   ]
  },
  {
   "cell_type": "code",
   "execution_count": null,
   "metadata": {},
   "outputs": [],
   "source": [
    "df1          # bez formátovania - ale už vyššie máme nastavené zobrazenie float na 2 desatinné miesta"
   ]
  },
  {
   "cell_type": "code",
   "execution_count": null,
   "metadata": {},
   "outputs": [],
   "source": [
    "df1.style    # so zvýraznením indexu - a keďže sme použili .style, kašle na to, že máme zobrazenie float na 2 desatinné miesta"
   ]
  },
  {
   "cell_type": "markdown",
   "metadata": {},
   "source": [
    "---\n",
    "# Pridanie stĺpca\n",
    "Stĺpec sa pridáva jednoducho. Vymyslíme si preň meno, napríklad \"Rok\", a potom zadáme, čo v ňom má byť.  \n",
    "Pozor, v príkaze bude `=`, takže priamo meníme náš dataframe.  \n",
    "\n",
    "Začnime s priradením toho najjednoduchšieho - v celom novom stĺpci má byť **jedna a tá istá** hodnota:"
   ]
  },
  {
   "cell_type": "code",
   "execution_count": null,
   "metadata": {},
   "outputs": [],
   "source": [
    "df1[\"Rok\"] = 2019\n",
    "df1"
   ]
  },
  {
   "cell_type": "markdown",
   "metadata": {},
   "source": [
    "---\n",
    "*Možno sa pýtaš, načo je to dobré. Napríklad na toto:*\n",
    "\n",
    "Práve nám poslali údaje za rok 2019, ale stĺpec \"Rok\" v nich nie je.  \n",
    "Máme už dataframe za predchádzajúce roky, povedzme za roky 2011 až 2018. Urobili sme ho takto:  \n",
    "\n",
    "Vždy, keď nám poslali súbor za rok, pridali sme kolónku \"Rok\" a zaplnili príslušným rokom.  \n",
    "Až potom sme ten dataframe pripojili - metódou `.append()` - naučíme sa ju) k predchádzajúcim rokom.\n",
    "\n",
    "Aj teraz to tak urobíme (urobili sme vyššie, `.append()` urobíme neskôr) ..."
   ]
  },
  {
   "cell_type": "markdown",
   "metadata": {},
   "source": [
    "---\n",
    "Druhou možnosťou je vymenovať všetky hodnoty.  \n",
    "V praxi to nemá zmysel, lebo tabuľky majú ohromné množstvo riadkov.  \n",
    "My však máme len 6, tak to urobíme:"
   ]
  },
  {
   "cell_type": "code",
   "execution_count": null,
   "metadata": {},
   "outputs": [],
   "source": [
    "df1[\"Mesiac\"] = \"Január December Marec Október December Marec\".split()\n",
    "df1"
   ]
  },
  {
   "cell_type": "markdown",
   "metadata": {},
   "source": [
    "---\n",
    "Ďalšou možnosťou je použiť niečo ako funkciu `range()`, ktorá nám vygeneruje  \n",
    "toľko hodnôt, koľko potrebujeme.\n",
    "\n",
    "Pre ilustráciu použijeme funkciu `date_range()`, ktorá nám vygeneruje za sebou  \n",
    "nasledujúce dátumy (naučíme sa neskôr):"
   ]
  },
  {
   "cell_type": "code",
   "execution_count": null,
   "metadata": {},
   "outputs": [],
   "source": [
    "df1[\"Dátum\"] = pd.date_range(start='27-02-2019', periods=6)\n",
    "df1"
   ]
  },
  {
   "cell_type": "markdown",
   "metadata": {},
   "source": [
    "---\n",
    "Teraz to vyzerá trochu blbo - stĺpce **Mesiac** a **Dátum** nám nekorešpondujú.  \n",
    "\n",
    "Ale tvárme sa, že takéto dáta sme dostali (nie vždy dostávame správne údaje),   \n",
    "aby sme mali čo opraviť (opravíme)."
   ]
  },
  {
   "cell_type": "markdown",
   "metadata": {},
   "source": [
    "---\n",
    "No a poslednou - najčastejšie používanou možnosťou - je **použiť výraz na výpočet hodnôt z iného stĺpca či stĺpcov.**\n",
    "\n",
    "Pozrime sa na našu tabuľku. Máme tam *počet kusov*, a aj *cenu za kus.*  \n",
    "Keď ich medzi sebou *vynásobíme*, dostaneme cenu, ktorú treba zaplatiť.\n",
    "\n",
    "Budeme násobiť *stĺpec so stĺpcom* - hovorí sa tomu **vektorizovaná** operácia.  \n",
    "Python samotný to priamo robiť nevie, ala Numpy aj Pandas to vedia.\n",
    "\n",
    "(Normálna operácia násobenia je medzi **jednou** dvojicou čísel, napr. `5 * 7`, ale my ideme  \n",
    "násobiť **šesť** dvojíc - celé stĺpce, *n-tice*, v našom prípade šestice.  \n",
    "\n",
    "V matematike sa vektory zapisujú ako n-tice, preto sa tomu hovorí **vektorizovaná** operácia.)"
   ]
  },
  {
   "cell_type": "code",
   "execution_count": null,
   "metadata": {},
   "outputs": [],
   "source": [
    "df1[\"Zaplatiť\"] = df1[\"Kusov\"] * df1[\"Cena/kus\"]\n",
    "df1"
   ]
  },
  {
   "cell_type": "markdown",
   "metadata": {},
   "source": [
    "---\n",
    "Hmmm...   \n",
    "Ten vypočítaný stĺpec je ďaleko, zle sa to kontroluje, či to dobre vypočítalo...\n",
    "\n",
    "Dáme si preto zobraziť len tie 3 stĺpce, ktorých sa to týka:"
   ]
  },
  {
   "cell_type": "code",
   "execution_count": null,
   "metadata": {},
   "outputs": [],
   "source": [
    "df1[[\"Kusov\", \"Cena/kus\", \"Zaplatiť\"]]"
   ]
  },
  {
   "cell_type": "markdown",
   "metadata": {},
   "source": [
    "---\n",
    "A taraz niečo oddychové. Poznáme metódy `.head()` a .`tail()`, ktoré nám zobrazia  \n",
    "prvé či posledné riadky tabuľky.\n",
    "\n",
    "Nie vždy je to vhodné. Tabuľky môžu byť zoradené, napr. abecedne, a my uvidíme  \n",
    "povedzme len Adrianu, Albína, Anabelu, či naopak Zinu, Zuzanu a Žofiu.\n",
    "\n",
    "Preto existuje metóda `.sample()`, ktorá nám vyberie **náhodne** zadaný počet riadkov (\"vzorku\").\n",
    "\n",
    "**POZOR!**  \n",
    "\n",
    "Nasledujúci príkaz budeme skúšať opakovane tak, že stlačíme **NIE** <kbd>Shift</kbd>+<kbd>Enter</kbd>, <br />\n",
    "ale <kbd>Ctrl</kbd>+<kbd>Enter</kbd>, aby sme sa nepresunuli na ďalšiu bunku.  \n",
    "Nemusíš si to pamätať - máš to v ponuke **Run**.\n",
    "\n",
    "Ideme na to: Na ďalšej bunke opakovane <kbd>Ctrl</kbd>+<kbd>Enter</kbd>:"
   ]
  },
  {
   "cell_type": "code",
   "execution_count": null,
   "metadata": {},
   "outputs": [],
   "source": [
    "df1.sample(3)"
   ]
  },
  {
   "cell_type": "markdown",
   "metadata": {},
   "source": [
    "---\n",
    "Pekné, nie?  \n",
    "Ale pekné na tom je aj to, že na rozdiel od metód `.head()` a .`tail()` vie táto metóda  \n",
    "pracovať nielen s riadkami, ale aj so **stĺpcami**, teda náhodne vybrať vzorku **stĺpcov.**\n",
    "\n",
    "Zastavme sa tu na chvíľku a pripomeňme si, že tabuľka má 2 osi (axes) - os 0, čiže `index`, a os 1 čiže `columns`.  <br />\n",
    "Os 0 je teda zvislá (ide po riadkoch), os 1 je vodorovná (ide po stĺpcoch). Takto:\n",
    "\n",
    "           ┌───┬──────┬────────────┬───────┐\n",
    "           │   │ Meno │ Priezvisko │ Plat  │  ←---- axis=1 (axis=\"columns\")\n",
    "           ├───┼──────┼────────────┼───────┤\n",
    "           │ 0 │ Fero │ Novák      │ 38000 │\n",
    "           │ 1 │ Jana │ Krivá      │ 26000 │\n",
    "           │ 2 │ Jožo │ Malý       │ 60000 │\n",
    "           └───┴──────┴────────────┴───────┘\n",
    "             ↑\n",
    "             |\n",
    "             |\n",
    "           axis=0\n",
    "        (axis=\"index\")\n",
    "        \n",
    "Mnoho funkcií a metód vie robiť tak po riadkoch, ako aj po stĺpcoch, pričom väčšina z nich  \n",
    "má ako predvolený smer (os) os 0 (\"index\", zvislý smer). Napríklad metóda `.sum()` sčítava  \n",
    "v zvislom smere, ak nepovieš ináč, teda robí súčty jednotlivých stĺpcov.\n",
    "\n",
    "Keď chceme namiesto zvislého smeru sčítavať vodorovne, musíme pridať parameter `axis=1` <br />\n",
    "(alebo - čo je to isté - `axis=\"columns\"`). Pre sčítavanie teda takto: `.sum(axis=1)`.\n",
    "\n",
    "Takže teraz to použijeme na metódu `.sample()` - chceme vzorkovať (náhodne vyberať) vo vodorovnom  \n",
    "smere, čiže vzorku stĺpcov:\n",
    "\n",
    "(Nezabudni - na ďalšej bunke opakovane <kbd>Ctrl</kbd>+<kbd>Enter</kbd>.)"
   ]
  },
  {
   "cell_type": "code",
   "execution_count": null,
   "metadata": {},
   "outputs": [],
   "source": [
    "df1.sample(4, axis=1)        # alebo:  df1.sample(4, axis=\"columns\") "
   ]
  },
  {
   "cell_type": "markdown",
   "metadata": {},
   "source": [
    "---\n",
    "Takže vyskúšali sme si vybrať vzorku 3 riadkov:\n",
    "\n",
    "    df1.sample(3)            # čo je to isté, ako:  df1.sample(3, axis=0),  alebo:  df1.sample(3, axis=\"index\")\n",
    "    \n",
    "a - podobne - vybrať vzorku 4 stĺpcov:\n",
    "\n",
    "    df1.sample(4, axis=1)    # alebo:  df1.sample(4, axis=\"columns\")\n",
    "    \n",
    "No a teraz to pekne zreťazíme - vyberieme náhodne 3 riadky a 4 stĺpce:\n",
    "\n",
    "(Nezabudni - na ďalšej bunke opakovane <kbd>Ctrl</kbd>+<kbd>Enter</kbd>.)"
   ]
  },
  {
   "cell_type": "code",
   "execution_count": null,
   "metadata": {},
   "outputs": [],
   "source": [
    " df1.sample(3).sample(4, axis=1)    # 3 riadky a 4 stĺpce"
   ]
  },
  {
   "cell_type": "markdown",
   "metadata": {},
   "source": [
    "# Odstránenie stĺpca (alebo aj viacerých stĺpcov)\n",
    "Jedným (nepriamym) - spôsobom je vynechať neželané stĺpce z ich z vymenovania:"
   ]
  },
  {
   "cell_type": "code",
   "execution_count": null,
   "metadata": {},
   "outputs": [],
   "source": [
    "df1                                    # Pôvodná tabuľka"
   ]
  },
  {
   "cell_type": "code",
   "execution_count": null,
   "metadata": {},
   "outputs": [],
   "source": [
    "df1[[\"Štát\", \"Mesiac\", \"Zaplatiť\"]]    # Hráme sa, lebo sme to ničomu nepriradili"
   ]
  },
  {
   "cell_type": "markdown",
   "metadata": {},
   "source": [
    "---\n",
    "No a teraz priama metóda...\n",
    "\n",
    "Najprv si treba povedať, že v pandas sa každé mazanie nazýva **\"drop\"**, a nie \"delete\" či \"remove\".  \n",
    "Slovo **\"drop\"** má v tejto súvislosti význam \"*vynechať, vypustiť, vyčiarknuť, vyhodiť*\".  <br /> \n",
    "\n",
    "Mne sa páči aj preklad **\"zahodiť\"**, ktorý však nie je v slovníku.\n",
    "\n",
    "Ako mnohé iné metódy so stĺpcami, keď ide o 1 stĺpec, *nemusí to byť zoznam*, stačí jeho meno.  \n",
    "Ak však ide o 2 a viac stĺpcov, musíme použiť ich **zoznam**."
   ]
  },
  {
   "cell_type": "code",
   "execution_count": null,
   "metadata": {},
   "outputs": [],
   "source": [
    "df1.head(2)                              # Pôvodná tabuľka; stačí nám pár riadkov"
   ]
  },
  {
   "cell_type": "code",
   "execution_count": null,
   "metadata": {},
   "outputs": [],
   "source": [
    "df1.drop(\"Mesiac\", axis=1).head(2)       # alebo axis=\"columns\". Predvolené je totiž - ako väčšinou - axis=\"index\", mazanie riadkov.\n",
    "                                         #    (To sme už videli v metóde .sample() - predvolená je vzorka z riadkov.)\n",
    "                                         # Pre pohodlie je pre metódu .drop() povolená aj iná syntax:\n",
    "                                         #     df1.drop(columns=\"Mesiac\")\n",
    "                                         # teda namiesto parametra axis=\"columns\" (či axis=1) sa použije parameter columns=\n",
    "            \n",
    "                                         # Hráme sa: ani sme to nepriradili, ani sme nepridali inplace=True"
   ]
  },
  {
   "cell_type": "code",
   "execution_count": null,
   "metadata": {},
   "outputs": [],
   "source": [
    "df1.drop([\"Mesiac\"], axis=1).head(2)     # To isté, ale použili sme zoznam (hoci sme nemuseli)"
   ]
  },
  {
   "cell_type": "markdown",
   "metadata": {},
   "source": [
    "---\n",
    "A teraz vyhodíme **viacero stĺpcov** - to už **musíme použiť zoznam**:"
   ]
  },
  {
   "cell_type": "code",
   "execution_count": null,
   "metadata": {},
   "outputs": [],
   "source": [
    "df1.head(2)                              # Pôvodná tabuľka; stačí nám pár riadkov"
   ]
  },
  {
   "cell_type": "code",
   "execution_count": null,
   "metadata": {},
   "outputs": [],
   "source": [
    "df1.drop([\"Štát\", \"Cena/kus\", \"Dátum\"], axis=1).head(2)       # Viacero stĺpcov MUSÍ byť zapísané ako zoznam"
   ]
  },
  {
   "cell_type": "markdown",
   "metadata": {},
   "source": [
    "---\n",
    "Tak, a teraz hry bokom, naostro!\n",
    "\n",
    "Máme 2 možnosti, aby sme **naozaj** zmenili dataframe:\n",
    "\n",
    "- priradíme to niečomu - to \"niečo\" už potom nebude mať tie stĺpce, alebo \n",
    "- dodáme parameter `inplace=True` - vtedy sa zmena udeje priamo na mieste, už nepriraďujeme.\n",
    "\n",
    "Vyskúšame si to, ale najprv si pôvodnú tabuľku uchováme, aby sme sa k nej mohli vrátiť:"
   ]
  },
  {
   "cell_type": "code",
   "execution_count": null,
   "metadata": {},
   "outputs": [],
   "source": [
    "df1_orig = df1.copy()         # POZOR!!! Bez .copy() by to boli len 2 mená pre ten istý (mutovateľný) objekt\n",
    "                              # Hovorili sme si to u mňa, keď tým mutovateľným objektom bol zoznam."
   ]
  },
  {
   "cell_type": "code",
   "execution_count": null,
   "metadata": {},
   "outputs": [],
   "source": [
    "df1 = df1_orig.copy()         # Týmto teraz vždy začneme, aby sme mali zaručene pôvodnú tabuľku\n",
    "\n",
    "df2 = df1.drop(columns=[\"Štát\", \"Cena/kus\", \"Dátum\"])     # Priradíme inému menu (df2); použitá syntax s columns= namiesto s axis=\n",
    "df2.head(2)"
   ]
  },
  {
   "cell_type": "markdown",
   "metadata": {},
   "source": [
    "To sme použili **iné** meno (`df2`), takže `df1` zostáva nezmenené:"
   ]
  },
  {
   "cell_type": "code",
   "execution_count": null,
   "metadata": {},
   "outputs": [],
   "source": [
    "df1.head(2)"
   ]
  },
  {
   "cell_type": "markdown",
   "metadata": {},
   "source": [
    "---\n",
    "A teraz použijeme **to isté** meno (`df1`), čím si `df1` zmeníme (prepíšeme):"
   ]
  },
  {
   "cell_type": "code",
   "execution_count": null,
   "metadata": {},
   "outputs": [],
   "source": [
    "df1 = df1_orig.copy()         # Týmto teraz vždy začneme, aby sme mali zaručene pôvodnú tabuľku\n",
    "\n",
    "df1 = df1.drop(columns=[\"Štát\", \"Cena/kus\", \"Dátum\"])     # Priradíme tomu istému menu (df1)\n",
    "df1.head(2)                                               # df1 je zmenené"
   ]
  },
  {
   "cell_type": "markdown",
   "metadata": {},
   "source": [
    "Takže sme o pôvodné stĺpce v `df1` nadobro prišli.  \n",
    "(Našťastie máme pôvodnú `df1` uloženú ako `df1_orig`.)\n",
    "\n",
    "---\n",
    "No a teraz trvalá zmena priamo na mieste, **bez priradenia**:"
   ]
  },
  {
   "cell_type": "code",
   "execution_count": null,
   "metadata": {},
   "outputs": [],
   "source": [
    "df1 = df1_orig.copy()       # Týmto teraz vždy začneme, aby sme mali zaručene pôvodnú tabuľku\n",
    "df1.head(2)                 # Originálna tabuľka - všetky stĺpce"
   ]
  },
  {
   "cell_type": "code",
   "execution_count": null,
   "metadata": {},
   "outputs": [],
   "source": [
    "df1.drop(columns=[\"Štát\", \"Cena/kus\", \"Dátum\"], inplace=True)     # Priama zmena tabuľky df1\n",
    "df1.head(2)"
   ]
  },
  {
   "cell_type": "code",
   "execution_count": null,
   "metadata": {},
   "outputs": [],
   "source": [
    "df1 = df1_orig.copy()         # A teraz sa zas vrátime k pôvodnej tabuľke\n",
    "df1.head(3)"
   ]
  },
  {
   "cell_type": "markdown",
   "metadata": {},
   "source": [
    "---\n",
    "No a - hoci pracujeme so stĺpcami - vymažeme teraz **riadky**, tou istou metódou, stačí zmeniť parameter `axis=`"
   ]
  },
  {
   "cell_type": "code",
   "execution_count": null,
   "metadata": {},
   "outputs": [],
   "source": [
    "df1.drop([202, 354], axis=\"index\")            # Hráme sa: ani sme to nepriradili, ani sme nepoužili parameter inplace=True"
   ]
  },
  {
   "cell_type": "markdown",
   "metadata": {},
   "source": [
    "---\n",
    "Mohli sme - samozrejme - písať aj `axis=0`, pretože **vždy** môžeme namiesto `axis=\"index\"` písať `axis=0`, <br /> \n",
    "a namiesto `axis=\"columns\"` písať `axis=1`: ešte raz ten istý obrázok:\n",
    "\n",
    "           ┌───┬──────┬────────────┬───────┐\n",
    "           │   │ Meno │ Priezvisko │ Plat  │  ←---- axis=1 (axis=\"columns\")\n",
    "           ├───┼──────┼────────────┼───────┤\n",
    "           │ 0 │ Fero │ Novák      │ 38000 │\n",
    "           │ 1 │ Jana │ Krivá      │ 26000 │\n",
    "           │ 2 │ Jožo │ Malý       │ 60000 │\n",
    "           └───┴──────┴────────────┴───────┘\n",
    "             ↑\n",
    "             |\n",
    "             |\n",
    "           axis=0\n",
    "        (axis=\"index\")\n",
    "        \n",
    "A podobne ako v prípade mazania stĺpcov, môžeme namiesto parametra `axis=0` použiť čosi iné - tentoraz sa ten parameter volá `labels`:\n",
    "  "
   ]
  },
  {
   "cell_type": "code",
   "execution_count": null,
   "metadata": {},
   "outputs": [],
   "source": [
    "df1.drop(labels=[495, 590, 849])          # Teraz skúšame mazať iné riadky"
   ]
  },
  {
   "cell_type": "markdown",
   "metadata": {},
   "source": [
    "---\n",
    "A teraz - aby sme nezabudli, že metódy môžeme *zreťazovať* - vymažeme **aj** riadky, **aj** stĺpce:"
   ]
  },
  {
   "cell_type": "code",
   "execution_count": null,
   "metadata": {},
   "outputs": [],
   "source": [
    "df1.drop(columns=[\"Štát\", \"Cena/kus\", \"Dátum\"]).drop(labels=[495, 590, 849])"
   ]
  },
  {
   "cell_type": "markdown",
   "metadata": {},
   "source": [
    "---\n",
    "A keďže poznáme aj metódu `.rename()` - používali sme ju na premenovávanie názvov stĺpcov - najprv si ju pripomeňme: "
   ]
  },
  {
   "cell_type": "code",
   "execution_count": null,
   "metadata": {},
   "outputs": [],
   "source": [
    "df1.rename(columns={\"Typ\": \"Druh\", \"Zaplatiť\": \"Spolu\"}).tail(3)       # Hráme sa - ani =, ani inplace=True"
   ]
  },
  {
   "cell_type": "markdown",
   "metadata": {},
   "source": [
    " \\- tak si domyslíš, že ju môžeme - podobne ako metódu `.drop()` - použiť aj na premenovanie položiek indexu.  \n",
    " Tu sa však nepoužije kľúčové slovo `labels=`, ale `index=`:"
   ]
  },
  {
   "cell_type": "code",
   "execution_count": null,
   "metadata": {},
   "outputs": [],
   "source": [
    "df1.rename(index={544: \"Aha!\", 495: -12}).tail(3)"
   ]
  },
  {
   "cell_type": "markdown",
   "metadata": {},
   "source": [
    "Ak sa Ti nepáči - tak ako mne - že raz je to `labels=`, raz `index=`, nemusíš si to pamätať.  \n",
    "Sú 3 dobré dôvody, aby si si to nepamätala:\n",
    "- používať radšej `axis=`, to je vždy rovnaké,\n",
    "- použiť ? na získanie pomoci,\n",
    "- použiť <kbd>Shift</kbd>+<kbd>Tab</kbd> na získanie pomoci.\n",
    "\n",
    "Najprv si ukážeme to prvé:"
   ]
  },
  {
   "cell_type": "code",
   "execution_count": null,
   "metadata": {},
   "outputs": [],
   "source": [
    "df1.rename({544: \"Aha!\", 495: -12}, axis=\"index\").tail(3)               # Alebo axis=0"
   ]
  },
  {
   "cell_type": "markdown",
   "metadata": {},
   "source": [
    "... a teraz to druhé - **pozor**, otáznik píšeš **hneď za meno metódy** (ešte predtým, než by si napísala zátvorku). \n",
    "\n",
    "Výstup je dlhý, obyčajne sa nám stačí pozrieť na začiatok, a potom by sme sa vrátili, otáznik vymazali a pokračovali.  \n",
    "*(Úplne na konci však bývajú **príklady na použitie!**)*\n",
    "\n",
    "Preto je dobré stlačiť za otáznikom <kbd>Ctrl</kbd>+<kbd>Enter</kbd>, aby sme v tej bunke zostali - prečítame si,   \n",
    "stlačíme <kbd>Enter</kbd> (aby sme sa dostali do vnútra bunky) a pokračujeme.\n",
    "\n",
    "Teraz to nevymažem, lebo by si to nevidela - ale môžeš klopnúť na modrý pruh naľavo  \n",
    "(ak ho nevidíš, zájdi myšou hodne doľava od toho, aby sa zjavil), a ono sa Ti to skryje:"
   ]
  },
  {
   "cell_type": "code",
   "execution_count": null,
   "metadata": {},
   "outputs": [],
   "source": [
    "df1.rename?"
   ]
  },
  {
   "cell_type": "markdown",
   "metadata": {},
   "source": [
    "---\n",
    "No a teraz asi čakáš, že Ti ukážem **3. metódu** na získanie pomoci - <kbd>Shift</kbd>+<kbd>Tab</kbd>. <br />\n",
    "Lenže to sa nedá - to si musíš vyskúšať sama.  \n",
    "\n",
    "Nepotrebuješ k tomu ani nič písať, ani novú bunku.  \n",
    "V hocijakej predchádzajúcej bunke (najprv si skry tú dlhú nad touto)  \n",
    "klopni **hocikam** (len nie na zreťazenú metódu, tam to nefunguje):  \n",
    "- do mena metódy, objektu či vlastnosti,\n",
    "- za meno metódy,\n",
    "- do zátvoriek na menom metódy,\n",
    "\n",
    "a stlač <kbd>Shift</kbd>+<kbd>Tab</kbd>\n",
    "\n",
    "Vyskočí Ti okienko v ktorom bude to isté, ako keď si písala za meno metódy otáznik, ale \n",
    "\n",
    "- **krásne farebné**,\n",
    "- malé (s posúvačom),\n",
    "- zmizne, keď klopneš vedľa alebo slačíš kláves <kbd>Esc</kbd>."
   ]
  }
 ],
 "metadata": {
  "anaconda-cloud": {},
  "kernelspec": {
   "display_name": "Python 3",
   "language": "python",
   "name": "python3"
  },
  "language_info": {
   "codemirror_mode": {
    "name": "ipython",
    "version": 3
   },
   "file_extension": ".py",
   "mimetype": "text/x-python",
   "name": "python",
   "nbconvert_exporter": "python",
   "pygments_lexer": "ipython3",
   "version": "3.8.8"
  }
 },
 "nbformat": 4,
 "nbformat_minor": 4
}
